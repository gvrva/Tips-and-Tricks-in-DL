{
 "cells": [
  {
   "cell_type": "markdown",
   "metadata": {
    "id": "uggWDbsqDpVJ"
   },
   "source": [
    "# Numpy\n",
    "*Resources:*\n",
    "1. [NumPy quickstart](https://numpy.org/doc/stable/user/quickstart.html)\n",
    "2. Python Data Science Handbook by Jake VanderPlas, [Introduction to NumPy](https://jakevdp.github.io/PythonDataScienceHandbook/02.00-introduction-to-numpy.html)\n",
    "3. [Numpy Documentation](https://numpy.org/doc/1.19/contents.html#numpy-docs-mainpage)\n",
    "\n",
    "Please, use Python >= 3.6"
   ]
  },
  {
   "cell_type": "code",
   "execution_count": 1,
   "metadata": {
    "id": "cglx1pmJDf5H"
   },
   "outputs": [],
   "source": [
    "import numpy as np"
   ]
  },
  {
   "cell_type": "code",
   "execution_count": 2,
   "metadata": {
    "id": "BQs1RLhqDkNO"
   },
   "outputs": [
    {
     "name": "stdout",
     "output_type": "stream",
     "text": [
      "a =\n",
      " [[0 1]\n",
      " [2 3]]\n",
      "b =\n",
      " [[0.         0.33333333]\n",
      " [0.66666667 1.        ]]\n",
      "c = a*b =\n",
      " [[0.66666667 1.        ]\n",
      " [2.         3.66666667]]\n"
     ]
    }
   ],
   "source": [
    "# numpy matrix multiplication\n",
    "a = np.arange(4).reshape((2, 2))\n",
    "b = np.linspace(0.0, 1.0, 4).reshape((2, 2))\n",
    "c = np.matmul(a, b)\n",
    "print(\"a =\\n\", a)\n",
    "print(\"b =\\n\", b)\n",
    "print(\"c = a*b =\\n\", c)"
   ]
  },
  {
   "cell_type": "code",
   "execution_count": 3,
   "metadata": {
    "id": "BQ2_Dnl-Hmoj"
   },
   "outputs": [
    {
     "data": {
      "text/plain": [
       "array([-1.,  1.])"
      ]
     },
     "execution_count": 3,
     "metadata": {},
     "output_type": "execute_result"
    }
   ],
   "source": [
    "# Solve polynomials equations\n",
    "np.roots([1., 0, -1])"
   ]
  },
  {
   "cell_type": "code",
   "execution_count": 4,
   "metadata": {
    "id": "HARPHFuyIWeN"
   },
   "outputs": [
    {
     "name": "stdout",
     "output_type": "stream",
     "text": [
      "a: [3 4 2 4 4 1 2 2 2 4]\n",
      "unique: [1 2 3 4]\n",
      "unique_index: [5 2 0 1]\n",
      "is_unique [1 1 1 0 0 1 0 0 0 0]\n"
     ]
    }
   ],
   "source": [
    "# Find if the element is unique\n",
    "# https://numpy.org/doc/stable/reference/generated/numpy.unique.html\n",
    "np.random.seed(42)\n",
    "a = np.random.randint(0, 5, 10)\n",
    "unique, unique_index = np.unique(a, return_index=True)\n",
    "is_unique = np.zeros_like(a)\n",
    "is_unique[unique_index] = 1\n",
    "print(\"a:\", a)\n",
    "print(\"unique:\", unique)\n",
    "print(\"unique_index:\", unique_index)\n",
    "print(\"is_unique\", is_unique)\n",
    "\n"
   ]
  },
  {
   "cell_type": "markdown",
   "metadata": {
    "id": "kwclYvs8RoN_"
   },
   "source": [
    "# Homework\n",
    "\n",
    "Each task should utilize numpy!\n",
    "\n",
    "## Task 1. (1)\n",
    "\n",
    "Make a function to compute moving average for 1D array with a given window.\n",
    "\n",
    "E.g.:\n",
    "\n",
    "a = [6 3 7 4 6]\n",
    "\n",
    "moving average, window=3: [5.33333333 4.66666667 5.66666667]"
   ]
  },
  {
   "cell_type": "code",
   "execution_count": 7,
   "metadata": {
    "colab": {
     "base_uri": "https://localhost:8080/"
    },
    "executionInfo": {
     "elapsed": 728,
     "status": "ok",
     "timestamp": 1610768789943,
     "user": {
      "displayName": "Nike F",
      "photoUrl": "",
      "userId": "08410843822258532374"
     },
     "user_tz": 0
    },
    "id": "r_veYSyVR_Pa",
    "outputId": "6793e44a-b238-46a2-d0cc-b1104b531324"
   },
   "outputs": [
    {
     "name": "stdout",
     "output_type": "stream",
     "text": [
      "a: [6, 3, 7, 4, 6]\n",
      "moving average, window=3: [5.333333333333333, 4.666666666666667]\n"
     ]
    }
   ],
   "source": [
    "np.random.seed(42)\n",
    "a = np.random.rand(10)\n",
    "a = [6,3,7,4,6]\n",
    "\n",
    "def moving_average(a, window):\n",
    "    mov_ave = []\n",
    "    for i in range(len(a)-window):\n",
    "        mov_ave.append(np.mean(a[i:i+window]))\n",
    "    return mov_ave\n",
    "\n",
    "print(\"a:\", a)\n",
    "print(\"moving average, window=3:\", moving_average(a, 3))"
   ]
  },
  {
   "cell_type": "code",
   "execution_count": null,
   "metadata": {},
   "outputs": [],
   "source": []
  },
  {
   "cell_type": "markdown",
   "metadata": {
    "id": "2reYNur2MsY9"
   },
   "source": [
    "## Task 2. (2)\n",
    "\n",
    "Find indices of all local maxima for a 1D array. A local maximum is a point surrounded by smaller value.\n",
    "\n",
    "E.g.:\n",
    "\n",
    "a = [1, 3, 2, 4, 5, 0]\n",
    "\n",
    "local_maxima = [1, 4]"
   ]
  },
  {
   "cell_type": "code",
   "execution_count": 6,
   "metadata": {
    "colab": {
     "base_uri": "https://localhost:8080/"
    },
    "executionInfo": {
     "elapsed": 629,
     "status": "ok",
     "timestamp": 1610768323967,
     "user": {
      "displayName": "Nike F",
      "photoUrl": "",
      "userId": "08410843822258532374"
     },
     "user_tz": 0
    },
    "id": "4WnnRLpDQoL2",
    "outputId": "a1ffa0dc-f3a7-4899-cf0a-829ebef9cc5d"
   },
   "outputs": [
    {
     "name": "stdout",
     "output_type": "stream",
     "text": [
      "a: [6 3 4 6 2 4 4 6 1 2 6 2]\n",
      "local_maxima: [ 3  7 10]\n"
     ]
    }
   ],
   "source": [
    "np.random.seed(42)\n",
    "a = np.random.randint(0, 7, 12)  # Should work with other arrays!\n",
    "\n",
    "left = np.where(a[1:-1]>a[2:])\n",
    "right = np.where(a[:-2]<a[1:-1])\n",
    "    \n",
    "local_maxima = np.intersect1d(left,right)+1\n",
    "\n",
    "print(\"a:\", a)\n",
    "print(\"local_maxima:\", local_maxima)\n"
   ]
  },
  {
   "cell_type": "markdown",
   "metadata": {
    "id": "iGc1Tzm3Tq1o"
   },
   "source": [
    "## Task 3. (2)\n",
    "\n",
    "Given an array `a` of random integers in range [0, 255] of shape (32, 32, 3), normalize it (`a_norm`) so mean and std values are:\n",
    "\n",
    "\n",
    "\n",
    "```\n",
    "np.mean(a_norm, (0, 1)) # [0.485, 0.456, 0.406]\n",
    "np.std(a_norm, (0, 1)) # [0.229, 0.224, 0.225]\n",
    "```\n",
    "\n",
    "\n"
   ]
  },
  {
   "cell_type": "code",
   "execution_count": 7,
   "metadata": {
    "colab": {
     "base_uri": "https://localhost:8080/"
    },
    "executionInfo": {
     "elapsed": 609,
     "status": "ok",
     "timestamp": 1610769545491,
     "user": {
      "displayName": "Nike F",
      "photoUrl": "",
      "userId": "08410843822258532374"
     },
     "user_tz": 0
    },
    "id": "iEbNtoMqRYSN",
    "outputId": "49e59b6d-9f0f-4f69-c66a-6b803193ea05"
   },
   "outputs": [
    {
     "name": "stdout",
     "output_type": "stream",
     "text": [
      "Mean: [0.485 0.456 0.406]\n",
      "Std: [0.229 0.224 0.225]\n"
     ]
    }
   ],
   "source": [
    "np.random.seed(123)\n",
    "a = np.random.randint(0, 256, (32, 32, 3))\n",
    "\n",
    "mean = [0.485, 0.456, 0.406]\n",
    "std = [0.229, 0.224, 0.225]\n",
    "\n",
    "a_norm = a/np.std(a, (0, 1))*std\n",
    "a_norm = a_norm-np.mean(a_norm,(0,1))+mean\n",
    "\n",
    "print(\"Mean:\", np.mean(a_norm, (0, 1)))\n",
    "print(\"Std:\", np.std(a_norm, (0, 1)))"
   ]
  },
  {
   "cell_type": "markdown",
   "metadata": {
    "id": "xUVmQ7NkXjbK"
   },
   "source": [
    "## Task 4*. (2)\n",
    "\n",
    "Fit the given set of points `x` and `y` with a line `y = a*x + b` using [gradient decent](https://en.wikipedia.org/wiki/Gradient_descent).\n",
    "The final result should contain `a` and `b`."
   ]
  },
  {
   "cell_type": "code",
   "execution_count": 8,
   "metadata": {
    "id": "kz1E1skAUVee"
   },
   "outputs": [],
   "source": [
    "np.random.seed(123)\n",
    "x = np.linspace(0, 10, 101)\n",
    "y = 2.0*x + 3.0 + np.random.uniform(-1.0, 1.0, x.shape)"
   ]
  },
  {
   "cell_type": "code",
   "execution_count": 9,
   "metadata": {},
   "outputs": [
    {
     "data": {
      "text/plain": [
       "[<matplotlib.lines.Line2D at 0x241c89d8e08>]"
      ]
     },
     "execution_count": 9,
     "metadata": {},
     "output_type": "execute_result"
    },
    {
     "data": {
      "image/png": "[encoded data removed]",
      "text/plain": [
       "<Figure size 432x288 with 1 Axes>"
      ]
     },
     "metadata": {
      "needs_background": "light"
     },
     "output_type": "display_data"
    }
   ],
   "source": [
    "import matplotlib.pyplot as plt\n",
    "plt.plot(x,y)"
   ]
  },
  {
   "cell_type": "code",
   "execution_count": 12,
   "metadata": {
    "id": "EsESlrNUYQV2"
   },
   "outputs": [],
   "source": [
    "def gradient_decent(x,y):\n",
    "    a = np.random.randint(0,100)\n",
    "    b = np.random.randint(0,100)\n",
    "    print(a, b)\n",
    "    delta = 0.0005\n",
    "    \n",
    "    while True:\n",
    "        grad_a = -2*np.mean(x*(y-a*x-b))\n",
    "        grad_b = -2*np.mean(y-a*x-b)\n",
    "        norm = np.linalg.norm([grad_a, grad_b])\n",
    "        if (norm<0.001):\n",
    "            break\n",
    "        a = a-delta*grad_a\n",
    "        b = b-delta*grad_b\n",
    "    return a,b"
   ]
  },
  {
   "cell_type": "code",
   "execution_count": 13,
   "metadata": {},
   "outputs": [
    {
     "name": "stdout",
     "output_type": "stream",
     "text": [
      "6 65\n",
      "a = 1.9982262215446986, b = 3.0124526949851016\n"
     ]
    }
   ],
   "source": [
    "a, b = gradient_decent(x,y)\n",
    "print(\"a = {}, b = {}\".format(a, b))"
   ]
  },
  {
   "cell_type": "code",
   "execution_count": null,
   "metadata": {},
   "outputs": [],
   "source": []
  }
 ],
 "metadata": {
  "colab": {
   "authorship_tag": "ABX9TyPE8ni7lExh1Mf26fYgSrup",
   "collapsed_sections": [],
   "name": "Homework_01.ipynb",
   "provenance": []
  },
  "kernelspec": {
   "display_name": "Python 3",
   "language": "python",
   "name": "python3"
  },
  "language_info": {
   "codemirror_mode": {
    "name": "ipython",
    "version": 3
   },
   "file_extension": ".py",
   "mimetype": "text/x-python",
   "name": "python",
   "nbconvert_exporter": "python",
   "pygments_lexer": "ipython3",
   "version": "3.7.6"
  }
 },
 "nbformat": 4,
 "nbformat_minor": 1
}
